{
 "cells": [
  {
   "cell_type": "code",
   "execution_count": 9,
   "metadata": {},
   "outputs": [],
   "source": [
    "import os\n",
    "from os.path import join as pjoin\n",
    "import sys\n",
    "import time\n",
    "from tqdm.notebook import tqdm\n",
    "import itertools\n",
    "import collections\n",
    "from datetime import datetime\n",
    "from dateutil.relativedelta import relativedelta\n",
    "\n",
    "import numpy as np\n",
    "import pandas as pd\n",
    "import scipy\n",
    "from matplotlib_venn import *\n",
    "import matplotlib\n",
    "import matplotlib.pyplot as plt\n",
    "import seaborn as sns\n",
    "%matplotlib inline\n",
    "\n",
    "from IPython.display import display\n",
    "from warnings import filterwarnings\n",
    "filterwarnings('ignore')"
   ]
  },
  {
   "cell_type": "code",
   "execution_count": 10,
   "metadata": {},
   "outputs": [
    {
     "name": "stdout",
     "output_type": "stream",
     "text": [
      "The autoreload extension is already loaded. To reload it, use:\n",
      "  %reload_ext autoreload\n"
     ]
    }
   ],
   "source": [
    "%load_ext autoreload\n",
    "%autoreload 2"
   ]
  },
  {
   "cell_type": "code",
   "execution_count": 11,
   "metadata": {},
   "outputs": [],
   "source": [
    "matplotlib.rcParams['figure.figsize'] = (8, 8)\n",
    "sns.set_style('whitegrid')"
   ]
  },
  {
   "cell_type": "markdown",
   "metadata": {},
   "source": [
    "---"
   ]
  },
  {
   "cell_type": "markdown",
   "metadata": {
    "pycharm": {
     "name": "#%% md\n"
    }
   },
   "source": [
    "### Загрузка данных"
   ]
  },
  {
   "cell_type": "code",
   "execution_count": 8,
   "outputs": [],
   "source": [
    "DATA_PATH = '../data/raw'"
   ],
   "metadata": {
    "collapsed": false,
    "pycharm": {
     "name": "#%%\n"
    }
   }
  },
  {
   "cell_type": "code",
   "execution_count": 29,
   "outputs": [
    {
     "name": "stdout",
     "output_type": "stream",
     "text": [
      "reviews______________________________________________________________________\n",
      "3,640,835 x 5\n"
     ]
    },
    {
     "data": {
      "text/plain": "                user_id                org_id  rating    ts aspects\n0  16998268288908323644   7184895086928047809     2.0   105     NaN\n1  12235230637700316274  11420440322893824394     3.0   890      17\n2   2706795762761414590  11993738663105455885     3.0   936     NaN\n3   2522006254806484630  18200844491365025705     3.0  1048       6\n4   2035736119522953868   7143808482480365209     5.0  1185     NaN",
      "text/html": "<div>\n<style scoped>\n    .dataframe tbody tr th:only-of-type {\n        vertical-align: middle;\n    }\n\n    .dataframe tbody tr th {\n        vertical-align: top;\n    }\n\n    .dataframe thead th {\n        text-align: right;\n    }\n</style>\n<table border=\"1\" class=\"dataframe\">\n  <thead>\n    <tr style=\"text-align: right;\">\n      <th></th>\n      <th>user_id</th>\n      <th>org_id</th>\n      <th>rating</th>\n      <th>ts</th>\n      <th>aspects</th>\n    </tr>\n  </thead>\n  <tbody>\n    <tr>\n      <th>0</th>\n      <td>16998268288908323644</td>\n      <td>7184895086928047809</td>\n      <td>2.0</td>\n      <td>105</td>\n      <td>NaN</td>\n    </tr>\n    <tr>\n      <th>1</th>\n      <td>12235230637700316274</td>\n      <td>11420440322893824394</td>\n      <td>3.0</td>\n      <td>890</td>\n      <td>17</td>\n    </tr>\n    <tr>\n      <th>2</th>\n      <td>2706795762761414590</td>\n      <td>11993738663105455885</td>\n      <td>3.0</td>\n      <td>936</td>\n      <td>NaN</td>\n    </tr>\n    <tr>\n      <th>3</th>\n      <td>2522006254806484630</td>\n      <td>18200844491365025705</td>\n      <td>3.0</td>\n      <td>1048</td>\n      <td>6</td>\n    </tr>\n    <tr>\n      <th>4</th>\n      <td>2035736119522953868</td>\n      <td>7143808482480365209</td>\n      <td>5.0</td>\n      <td>1185</td>\n      <td>NaN</td>\n    </tr>\n  </tbody>\n</table>\n</div>"
     },
     "metadata": {},
     "output_type": "display_data"
    },
    {
     "name": "stdout",
     "output_type": "stream",
     "text": [
      "\n",
      "users______________________________________________________________________\n",
      "1,252,801 x 2\n"
     ]
    },
    {
     "data": {
      "text/plain": "                user_id city\n0    523295021912509756  msk\n1  11952159487361099606  msk\n2  16879036589969590999  msk\n3  12791716990148606332  msk\n4  11642393216024958726  msk",
      "text/html": "<div>\n<style scoped>\n    .dataframe tbody tr th:only-of-type {\n        vertical-align: middle;\n    }\n\n    .dataframe tbody tr th {\n        vertical-align: top;\n    }\n\n    .dataframe thead th {\n        text-align: right;\n    }\n</style>\n<table border=\"1\" class=\"dataframe\">\n  <thead>\n    <tr style=\"text-align: right;\">\n      <th></th>\n      <th>user_id</th>\n      <th>city</th>\n    </tr>\n  </thead>\n  <tbody>\n    <tr>\n      <th>0</th>\n      <td>523295021912509756</td>\n      <td>msk</td>\n    </tr>\n    <tr>\n      <th>1</th>\n      <td>11952159487361099606</td>\n      <td>msk</td>\n    </tr>\n    <tr>\n      <th>2</th>\n      <td>16879036589969590999</td>\n      <td>msk</td>\n    </tr>\n    <tr>\n      <th>3</th>\n      <td>12791716990148606332</td>\n      <td>msk</td>\n    </tr>\n    <tr>\n      <th>4</th>\n      <td>11642393216024958726</td>\n      <td>msk</td>\n    </tr>\n  </tbody>\n</table>\n</div>"
     },
     "metadata": {},
     "output_type": "display_data"
    },
    {
     "name": "stdout",
     "output_type": "stream",
     "text": [
      "\n",
      "rubrics______________________________________________________________________\n",
      "15 x 2\n"
     ]
    },
    {
     "data": {
      "text/plain": "   rubric_id        rubric_name\n0      30519  Булочная, пекарня\n1      30770           Бар, паб\n2      30771    Быстрое питание\n3      30774               Кафе\n4      30775           Пиццерия",
      "text/html": "<div>\n<style scoped>\n    .dataframe tbody tr th:only-of-type {\n        vertical-align: middle;\n    }\n\n    .dataframe tbody tr th {\n        vertical-align: top;\n    }\n\n    .dataframe thead th {\n        text-align: right;\n    }\n</style>\n<table border=\"1\" class=\"dataframe\">\n  <thead>\n    <tr style=\"text-align: right;\">\n      <th></th>\n      <th>rubric_id</th>\n      <th>rubric_name</th>\n    </tr>\n  </thead>\n  <tbody>\n    <tr>\n      <th>0</th>\n      <td>30519</td>\n      <td>Булочная, пекарня</td>\n    </tr>\n    <tr>\n      <th>1</th>\n      <td>30770</td>\n      <td>Бар, паб</td>\n    </tr>\n    <tr>\n      <th>2</th>\n      <td>30771</td>\n      <td>Быстрое питание</td>\n    </tr>\n    <tr>\n      <th>3</th>\n      <td>30774</td>\n      <td>Кафе</td>\n    </tr>\n    <tr>\n      <th>4</th>\n      <td>30775</td>\n      <td>Пиццерия</td>\n    </tr>\n  </tbody>\n</table>\n</div>"
     },
     "metadata": {},
     "output_type": "display_data"
    },
    {
     "name": "stdout",
     "output_type": "stream",
     "text": [
      "\n",
      "features______________________________________________________________________\n",
      "63 x 2\n"
     ]
    },
    {
     "data": {
      "text/plain": "   feature_id           feature_name\n0         246                karaoke\n1         256               vip_zone\n2         288  accepted_credit_cards\n3         444         has_restaurant\n4         447       air_conditioning",
      "text/html": "<div>\n<style scoped>\n    .dataframe tbody tr th:only-of-type {\n        vertical-align: middle;\n    }\n\n    .dataframe tbody tr th {\n        vertical-align: top;\n    }\n\n    .dataframe thead th {\n        text-align: right;\n    }\n</style>\n<table border=\"1\" class=\"dataframe\">\n  <thead>\n    <tr style=\"text-align: right;\">\n      <th></th>\n      <th>feature_id</th>\n      <th>feature_name</th>\n    </tr>\n  </thead>\n  <tbody>\n    <tr>\n      <th>0</th>\n      <td>246</td>\n      <td>karaoke</td>\n    </tr>\n    <tr>\n      <th>1</th>\n      <td>256</td>\n      <td>vip_zone</td>\n    </tr>\n    <tr>\n      <th>2</th>\n      <td>288</td>\n      <td>accepted_credit_cards</td>\n    </tr>\n    <tr>\n      <th>3</th>\n      <td>444</td>\n      <td>has_restaurant</td>\n    </tr>\n    <tr>\n      <th>4</th>\n      <td>447</td>\n      <td>air_conditioning</td>\n    </tr>\n  </tbody>\n</table>\n</div>"
     },
     "metadata": {},
     "output_type": "display_data"
    },
    {
     "name": "stdout",
     "output_type": "stream",
     "text": [
      "\n",
      "organisations______________________________________________________________________\n",
      "66,405 x 6\n"
     ]
    },
    {
     "data": {
      "text/plain": "                 org_id city  average_bill    rating   rubrics_id  \\\n0  16848414477362211020  spb        1000.0  4.479702  30776 31375   \n1   1430604733320164116  spb        1000.0  4.514509  30776 30770   \n2   9880309324224147401  spb        1000.0  3.884615  30770 30774   \n3   5617879987171966456  spb        1000.0       NaN  30774 30775   \n4   5241461680470612149  spb        1000.0  4.532468        30776   \n\n                                         features_id  \n0  1018 1509 11177 11617 11629 11704 11867 20422 ...  \n1  246 1018 11617 11629 11704 11867 20422 21247 3...  \n2  1018 11177 11617 11629 11704 11867 20422 21247...  \n3  1018 1509 10596 11177 11629 11634 11704 11867 ...  \n4  1018 11177 11617 11629 11704 11867 20422 21247...  ",
      "text/html": "<div>\n<style scoped>\n    .dataframe tbody tr th:only-of-type {\n        vertical-align: middle;\n    }\n\n    .dataframe tbody tr th {\n        vertical-align: top;\n    }\n\n    .dataframe thead th {\n        text-align: right;\n    }\n</style>\n<table border=\"1\" class=\"dataframe\">\n  <thead>\n    <tr style=\"text-align: right;\">\n      <th></th>\n      <th>org_id</th>\n      <th>city</th>\n      <th>average_bill</th>\n      <th>rating</th>\n      <th>rubrics_id</th>\n      <th>features_id</th>\n    </tr>\n  </thead>\n  <tbody>\n    <tr>\n      <th>0</th>\n      <td>16848414477362211020</td>\n      <td>spb</td>\n      <td>1000.0</td>\n      <td>4.479702</td>\n      <td>30776 31375</td>\n      <td>1018 1509 11177 11617 11629 11704 11867 20422 ...</td>\n    </tr>\n    <tr>\n      <th>1</th>\n      <td>1430604733320164116</td>\n      <td>spb</td>\n      <td>1000.0</td>\n      <td>4.514509</td>\n      <td>30776 30770</td>\n      <td>246 1018 11617 11629 11704 11867 20422 21247 3...</td>\n    </tr>\n    <tr>\n      <th>2</th>\n      <td>9880309324224147401</td>\n      <td>spb</td>\n      <td>1000.0</td>\n      <td>3.884615</td>\n      <td>30770 30774</td>\n      <td>1018 11177 11617 11629 11704 11867 20422 21247...</td>\n    </tr>\n    <tr>\n      <th>3</th>\n      <td>5617879987171966456</td>\n      <td>spb</td>\n      <td>1000.0</td>\n      <td>NaN</td>\n      <td>30774 30775</td>\n      <td>1018 1509 10596 11177 11629 11634 11704 11867 ...</td>\n    </tr>\n    <tr>\n      <th>4</th>\n      <td>5241461680470612149</td>\n      <td>spb</td>\n      <td>1000.0</td>\n      <td>4.532468</td>\n      <td>30776</td>\n      <td>1018 11177 11617 11629 11704 11867 20422 21247...</td>\n    </tr>\n  </tbody>\n</table>\n</div>"
     },
     "metadata": {},
     "output_type": "display_data"
    },
    {
     "name": "stdout",
     "output_type": "stream",
     "text": [
      "\n",
      "aspects______________________________________________________________________\n",
      "141 x 2\n"
     ]
    },
    {
     "data": {
      "text/plain": "   aspect_id aspect_name\n0          1     Бургеры\n1          2     Чистота\n2          3    Интерьер\n3          4         Еда\n4          5     Напитки",
      "text/html": "<div>\n<style scoped>\n    .dataframe tbody tr th:only-of-type {\n        vertical-align: middle;\n    }\n\n    .dataframe tbody tr th {\n        vertical-align: top;\n    }\n\n    .dataframe thead th {\n        text-align: right;\n    }\n</style>\n<table border=\"1\" class=\"dataframe\">\n  <thead>\n    <tr style=\"text-align: right;\">\n      <th></th>\n      <th>aspect_id</th>\n      <th>aspect_name</th>\n    </tr>\n  </thead>\n  <tbody>\n    <tr>\n      <th>0</th>\n      <td>1</td>\n      <td>Бургеры</td>\n    </tr>\n    <tr>\n      <th>1</th>\n      <td>2</td>\n      <td>Чистота</td>\n    </tr>\n    <tr>\n      <th>2</th>\n      <td>3</td>\n      <td>Интерьер</td>\n    </tr>\n    <tr>\n      <th>3</th>\n      <td>4</td>\n      <td>Еда</td>\n    </tr>\n    <tr>\n      <th>4</th>\n      <td>5</td>\n      <td>Напитки</td>\n    </tr>\n  </tbody>\n</table>\n</div>"
     },
     "metadata": {},
     "output_type": "display_data"
    }
   ],
   "source": [
    "print(\"reviews\"+\"_\"*70)\n",
    "reviews_df = pd.read_csv(pjoin(DATA_PATH, 'reviews.csv'))\n",
    "print(f'{reviews_df.shape[0]:,} x {reviews_df.shape[1]:,}')\n",
    "display(reviews_df.head())\n",
    "\n",
    "print(\"\\n\"+\"users\"+\"_\"*70)\n",
    "users_df = pd.read_csv(pjoin(DATA_PATH, 'users.csv'))\n",
    "print(f'{users_df.shape[0]:,} x {users_df.shape[1]:,}')\n",
    "display(users_df.head())\n",
    "\n",
    "print(\"\\n\"+\"rubrics\"+\"_\"*70)\n",
    "rubrics_df = pd.read_csv(pjoin(DATA_PATH, 'rubrics.csv'))\n",
    "print(f'{rubrics_df.shape[0]:,} x {rubrics_df.shape[1]:,}')\n",
    "display(rubrics_df.head())\n",
    "\n",
    "print(\"\\n\"+\"features\"+\"_\"*70)\n",
    "features_df = pd.read_csv(pjoin(DATA_PATH, 'features.csv'))\n",
    "print(f'{features_df.shape[0]:,} x {features_df.shape[1]:,}')\n",
    "display(features_df.head())\n",
    "\n",
    "print(\"\\n\"+\"organisations\"+\"_\"*70)\n",
    "organisations_df = pd.read_csv(pjoin(DATA_PATH, 'organisations.csv'))\n",
    "print(f'{organisations_df.shape[0]:,} x {organisations_df.shape[1]:,}')\n",
    "display(organisations_df.head())\n",
    "\n",
    "print(\"\\n\"+\"aspects\"+\"_\"*70)\n",
    "aspects_df = pd.read_csv(pjoin(DATA_PATH, 'aspects.csv'))\n",
    "print(f'{aspects_df.shape[0]:,} x {aspects_df.shape[1]:,}')\n",
    "display(aspects_df.head())"
   ],
   "metadata": {
    "collapsed": false,
    "pycharm": {
     "name": "#%%\n"
    }
   }
  },
  {
   "cell_type": "code",
   "execution_count": null,
   "metadata": {},
   "outputs": [],
   "source": []
  },
  {
   "cell_type": "code",
   "execution_count": null,
   "outputs": [],
   "source": [],
   "metadata": {
    "collapsed": false,
    "pycharm": {
     "name": "#%%\n"
    }
   }
  },
  {
   "cell_type": "code",
   "execution_count": null,
   "metadata": {},
   "outputs": [],
   "source": []
  }
 ],
 "metadata": {
  "kernelspec": {
   "display_name": "Python 3",
   "language": "python",
   "name": "python3"
  },
  "language_info": {
   "codemirror_mode": {
    "name": "ipython",
    "version": 3
   },
   "file_extension": ".py",
   "mimetype": "text/x-python",
   "name": "python",
   "nbconvert_exporter": "python",
   "pygments_lexer": "ipython3",
   "version": "3.8.5"
  },
  "varInspector": {
   "cols": {
    "lenName": 16,
    "lenType": 16,
    "lenVar": 40
   },
   "kernels_config": {
    "python": {
     "delete_cmd_postfix": "",
     "delete_cmd_prefix": "del ",
     "library": "var_list.py",
     "varRefreshCmd": "print(var_dic_list())"
    },
    "r": {
     "delete_cmd_postfix": ") ",
     "delete_cmd_prefix": "rm(",
     "library": "var_list.r",
     "varRefreshCmd": "cat(var_dic_list()) "
    }
   },
   "types_to_exclude": [
    "module",
    "function",
    "builtin_function_or_method",
    "instance",
    "_Feature"
   ],
   "window_display": false
  }
 },
 "nbformat": 4,
 "nbformat_minor": 4
}